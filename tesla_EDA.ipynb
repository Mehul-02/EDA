{
 "cells": [
  {
   "cell_type": "code",
   "execution_count": 1,
   "id": "e7b961b4",
   "metadata": {},
   "outputs": [],
   "source": [
    "import pandas as pd\n",
    "import pandas_datareader as pdr\n",
    "from datetime import datetime"
   ]
  },
  {
   "cell_type": "code",
   "execution_count": 2,
   "id": "653e082c",
   "metadata": {},
   "outputs": [
    {
     "name": "stdout",
     "output_type": "stream",
     "text": [
      "Collecting pandas-datareader\n",
      "  Downloading pandas_datareader-0.10.0-py3-none-any.whl (109 kB)\n",
      "Requirement already satisfied: pandas>=0.23 in c:\\users\\admin\\anaconda3\\lib\\site-packages (from pandas-datareader) (1.4.2)\n",
      "Requirement already satisfied: lxml in c:\\users\\admin\\anaconda3\\lib\\site-packages (from pandas-datareader) (4.8.0)\n",
      "Requirement already satisfied: requests>=2.19.0 in c:\\users\\admin\\anaconda3\\lib\\site-packages (from pandas-datareader) (2.27.1)\n",
      "Requirement already satisfied: python-dateutil>=2.8.1 in c:\\users\\admin\\anaconda3\\lib\\site-packages (from pandas>=0.23->pandas-datareader) (2.8.2)\n",
      "Requirement already satisfied: pytz>=2020.1 in c:\\users\\admin\\anaconda3\\lib\\site-packages (from pandas>=0.23->pandas-datareader) (2021.3)\n",
      "Requirement already satisfied: numpy>=1.18.5 in c:\\users\\admin\\anaconda3\\lib\\site-packages (from pandas>=0.23->pandas-datareader) (1.21.5)\n",
      "Requirement already satisfied: six>=1.5 in c:\\users\\admin\\anaconda3\\lib\\site-packages (from python-dateutil>=2.8.1->pandas>=0.23->pandas-datareader) (1.16.0)\n",
      "Requirement already satisfied: certifi>=2017.4.17 in c:\\users\\admin\\anaconda3\\lib\\site-packages (from requests>=2.19.0->pandas-datareader) (2021.10.8)\n",
      "Requirement already satisfied: urllib3<1.27,>=1.21.1 in c:\\users\\admin\\anaconda3\\lib\\site-packages (from requests>=2.19.0->pandas-datareader) (1.26.9)\n",
      "Requirement already satisfied: charset-normalizer~=2.0.0 in c:\\users\\admin\\anaconda3\\lib\\site-packages (from requests>=2.19.0->pandas-datareader) (2.0.4)\n",
      "Requirement already satisfied: idna<4,>=2.5 in c:\\users\\admin\\anaconda3\\lib\\site-packages (from requests>=2.19.0->pandas-datareader) (3.3)\n",
      "Installing collected packages: pandas-datareader\n",
      "Successfully installed pandas-datareader-0.10.0\n",
      "Note: you may need to restart the kernel to use updated packages.\n"
     ]
    }
   ],
   "source": [
    "pip install pandas-datareader"
   ]
  },
  {
   "cell_type": "code",
   "execution_count": 3,
   "id": "d1ebeb7f",
   "metadata": {},
   "outputs": [],
   "source": [
    "df_tesla=pdr.get_data_yahoo('TSLA')"
   ]
  },
  {
   "cell_type": "code",
   "execution_count": 6,
   "id": "c75c1eab",
   "metadata": {},
   "outputs": [
    {
     "data": {
      "text/html": [
       "<div>\n",
       "<style scoped>\n",
       "    .dataframe tbody tr th:only-of-type {\n",
       "        vertical-align: middle;\n",
       "    }\n",
       "\n",
       "    .dataframe tbody tr th {\n",
       "        vertical-align: top;\n",
       "    }\n",
       "\n",
       "    .dataframe thead th {\n",
       "        text-align: right;\n",
       "    }\n",
       "</style>\n",
       "<table border=\"1\" class=\"dataframe\">\n",
       "  <thead>\n",
       "    <tr style=\"text-align: right;\">\n",
       "      <th></th>\n",
       "      <th>High</th>\n",
       "      <th>Low</th>\n",
       "      <th>Open</th>\n",
       "      <th>Close</th>\n",
       "      <th>Volume</th>\n",
       "      <th>Adj Close</th>\n",
       "    </tr>\n",
       "    <tr>\n",
       "      <th>Date</th>\n",
       "      <th></th>\n",
       "      <th></th>\n",
       "      <th></th>\n",
       "      <th></th>\n",
       "      <th></th>\n",
       "      <th></th>\n",
       "    </tr>\n",
       "  </thead>\n",
       "  <tbody>\n",
       "    <tr>\n",
       "      <th>2017-11-27</th>\n",
       "      <td>21.156000</td>\n",
       "      <td>20.634001</td>\n",
       "      <td>20.883333</td>\n",
       "      <td>21.120667</td>\n",
       "      <td>68338500.0</td>\n",
       "      <td>21.120667</td>\n",
       "    </tr>\n",
       "    <tr>\n",
       "      <th>2017-11-28</th>\n",
       "      <td>21.333332</td>\n",
       "      <td>20.927999</td>\n",
       "      <td>21.090668</td>\n",
       "      <td>21.170000</td>\n",
       "      <td>74242500.0</td>\n",
       "      <td>21.170000</td>\n",
       "    </tr>\n",
       "    <tr>\n",
       "      <th>2017-11-29</th>\n",
       "      <td>21.200001</td>\n",
       "      <td>20.082001</td>\n",
       "      <td>21.153334</td>\n",
       "      <td>20.502666</td>\n",
       "      <td>131511000.0</td>\n",
       "      <td>20.502666</td>\n",
       "    </tr>\n",
       "    <tr>\n",
       "      <th>2017-11-30</th>\n",
       "      <td>20.713333</td>\n",
       "      <td>20.302668</td>\n",
       "      <td>20.570667</td>\n",
       "      <td>20.590000</td>\n",
       "      <td>65274000.0</td>\n",
       "      <td>20.590000</td>\n",
       "    </tr>\n",
       "    <tr>\n",
       "      <th>2017-12-01</th>\n",
       "      <td>20.688000</td>\n",
       "      <td>20.336666</td>\n",
       "      <td>20.362667</td>\n",
       "      <td>20.435333</td>\n",
       "      <td>64393500.0</td>\n",
       "      <td>20.435333</td>\n",
       "    </tr>\n",
       "  </tbody>\n",
       "</table>\n",
       "</div>"
      ],
      "text/plain": [
       "                 High        Low       Open      Close       Volume  Adj Close\n",
       "Date                                                                          \n",
       "2017-11-27  21.156000  20.634001  20.883333  21.120667   68338500.0  21.120667\n",
       "2017-11-28  21.333332  20.927999  21.090668  21.170000   74242500.0  21.170000\n",
       "2017-11-29  21.200001  20.082001  21.153334  20.502666  131511000.0  20.502666\n",
       "2017-11-30  20.713333  20.302668  20.570667  20.590000   65274000.0  20.590000\n",
       "2017-12-01  20.688000  20.336666  20.362667  20.435333   64393500.0  20.435333"
      ]
     },
     "execution_count": 6,
     "metadata": {},
     "output_type": "execute_result"
    }
   ],
   "source": [
    "df_tesla.head()"
   ]
  },
  {
   "cell_type": "code",
   "execution_count": 8,
   "id": "278e59b8",
   "metadata": {},
   "outputs": [
    {
     "data": {
      "text/plain": [
       "<AxesSubplot:xlabel='Date'>"
      ]
     },
     "execution_count": 8,
     "metadata": {},
     "output_type": "execute_result"
    },
    {
     "data": {
      "image/png": "[encoded data removed]",
      "text/plain": [
       "<Figure size 432x288 with 1 Axes>"
      ]
     },
     "metadata": {
      "needs_background": "light"
     },
     "output_type": "display_data"
    }
   ],
   "source": [
    "df_tesla.plot()"
   ]
  },
  {
   "cell_type": "code",
   "execution_count": 9,
   "id": "ace8f63b",
   "metadata": {},
   "outputs": [
    {
     "data": {
      "text/plain": [
       "<AxesSubplot:xlabel='Date'>"
      ]
     },
     "execution_count": 9,
     "metadata": {},
     "output_type": "execute_result"
    },
    {
     "data": {
      "image/png": "[encoded data removed]",
      "text/plain": [
       "<Figure size 864x288 with 1 Axes>"
      ]
     },
     "metadata": {
      "needs_background": "light"
     },
     "output_type": "display_data"
    }
   ],
   "source": [
    "df_tesla['High'].plot(figsize=(12,4))"
   ]
  },
  {
   "cell_type": "code",
   "execution_count": 13,
   "id": "3cb36036",
   "metadata": {},
   "outputs": [
    {
     "data": {
      "text/plain": [
       "<AxesSubplot:xlabel='Date'>"
      ]
     },
     "execution_count": 13,
     "metadata": {},
     "output_type": "execute_result"
    },
    {
     "data": {
      "image/png": "[encoded data removed]",
      "text/plain": [
       "<Figure size 864x288 with 1 Axes>"
      ]
     },
     "metadata": {
      "needs_background": "light"
     },
     "output_type": "display_data"
    }
   ],
   "source": [
    "df_tesla['High'].plot(xlim=['2020-01-01','2021-09-01'],figsize=(12,4))"
   ]
  },
  {
   "cell_type": "code",
   "execution_count": 14,
   "id": "047d0310",
   "metadata": {},
   "outputs": [
    {
     "data": {
      "text/plain": [
       "<AxesSubplot:xlabel='Date'>"
      ]
     },
     "execution_count": 14,
     "metadata": {},
     "output_type": "execute_result"
    },
    {
     "data": {
      "image/png": "[encoded data removed]",
      "text/plain": [
       "<Figure size 864x288 with 1 Axes>"
      ]
     },
     "metadata": {
      "needs_background": "light"
     },
     "output_type": "display_data"
    }
   ],
   "source": [
    "df_tesla['High'].plot(xlim=['2020-01-01','2021-09-01'],ylim=[0,900],figsize=(12,4))"
   ]
  },
  {
   "cell_type": "code",
   "execution_count": 15,
   "id": "213b9b0b",
   "metadata": {},
   "outputs": [
    {
     "data": {
      "text/plain": [
       "<AxesSubplot:xlabel='Date'>"
      ]
     },
     "execution_count": 15,
     "metadata": {},
     "output_type": "execute_result"
    },
    {
     "data": {
      "image/png": "[encoded data removed]",
      "text/plain": [
       "<Figure size 864x288 with 1 Axes>"
      ]
     },
     "metadata": {
      "needs_background": "light"
     },
     "output_type": "display_data"
    }
   ],
   "source": [
    "df_tesla['High'].plot(xlim=['2020-01-01','2021-09-01'],ylim=[0,900],figsize=(12,4),ls='--',c='red')"
   ]
  },
  {
   "cell_type": "code",
   "execution_count": 16,
   "id": "fa3a2b99",
   "metadata": {},
   "outputs": [
    {
     "data": {
      "text/plain": [
       "DatetimeIndex(['2017-11-27', '2017-11-28', '2017-11-29', '2017-11-30',\n",
       "               '2017-12-01', '2017-12-04', '2017-12-05', '2017-12-06',\n",
       "               '2017-12-07', '2017-12-08',\n",
       "               ...\n",
       "               '2022-11-11', '2022-11-14', '2022-11-15', '2022-11-16',\n",
       "               '2022-11-17', '2022-11-18', '2022-11-21', '2022-11-22',\n",
       "               '2022-11-23', '2022-11-25'],\n",
       "              dtype='datetime64[ns]', name='Date', length=1259, freq=None)"
      ]
     },
     "execution_count": 16,
     "metadata": {},
     "output_type": "execute_result"
    }
   ],
   "source": [
    "df_tesla.index"
   ]
  },
  {
   "cell_type": "code",
   "execution_count": 17,
   "id": "621b937c",
   "metadata": {},
   "outputs": [],
   "source": [
    "index=df_tesla.loc['2020-01-01':'2021-09-01'].index"
   ]
  },
  {
   "cell_type": "code",
   "execution_count": 19,
   "id": "35a7489f",
   "metadata": {},
   "outputs": [],
   "source": [
    "share_open=df_tesla.loc['2020-01-01':'2021-09-01']['Open']"
   ]
  },
  {
   "cell_type": "code",
   "execution_count": 20,
   "id": "3d67a182",
   "metadata": {},
   "outputs": [
    {
     "data": {
      "text/plain": [
       "Date\n",
       "2020-01-02     28.299999\n",
       "2020-01-03     29.366667\n",
       "2020-01-06     29.364668\n",
       "2020-01-07     30.760000\n",
       "2020-01-08     31.580000\n",
       "                 ...    \n",
       "2021-08-26    236.103333\n",
       "2021-08-27    235.000000\n",
       "2021-08-30    238.240005\n",
       "2021-08-31    244.333328\n",
       "2021-09-01    244.693329\n",
       "Name: Open, Length: 421, dtype: float64"
      ]
     },
     "execution_count": 20,
     "metadata": {},
     "output_type": "execute_result"
    }
   ],
   "source": [
    "share_open"
   ]
  },
  {
   "cell_type": "code",
   "execution_count": 21,
   "id": "fbe68daa",
   "metadata": {},
   "outputs": [],
   "source": [
    "import matplotlib.pyplot as plt\n",
    "%matplotlib inline"
   ]
  },
  {
   "cell_type": "code",
   "execution_count": 23,
   "id": "37395206",
   "metadata": {},
   "outputs": [
    {
     "data": {
      "text/plain": [
       "[<matplotlib.lines.Line2D at 0x19febad7490>]"
      ]
     },
     "execution_count": 23,
     "metadata": {},
     "output_type": "execute_result"
    },
    {
     "data": {
      "image/png": "[encoded data removed]",
      "text/plain": [
       "<Figure size 432x288 with 1 Axes>"
      ]
     },
     "metadata": {
      "needs_background": "light"
     },
     "output_type": "display_data"
    }
   ],
   "source": [
    "figure,axis=plt.subplots()\n",
    "plt.tight_layout()\n",
    "#preventing overlapping\n",
    "figure.autofmt_xdate()\n",
    "axis.plot(index,share_open)"
   ]
  },
  {
   "cell_type": "code",
   "execution_count": 25,
   "id": "f43b8c61",
   "metadata": {},
   "outputs": [],
   "source": [
    "df_tesla=df_tesla.reset_index()"
   ]
  },
  {
   "cell_type": "code",
   "execution_count": 27,
   "id": "8e297dc7",
   "metadata": {},
   "outputs": [
    {
     "name": "stdout",
     "output_type": "stream",
     "text": [
      "<class 'pandas.core.frame.DataFrame'>\n",
      "RangeIndex: 1259 entries, 0 to 1258\n",
      "Data columns (total 7 columns):\n",
      " #   Column     Non-Null Count  Dtype         \n",
      "---  ------     --------------  -----         \n",
      " 0   Date       1259 non-null   datetime64[ns]\n",
      " 1   High       1259 non-null   float64       \n",
      " 2   Low        1259 non-null   float64       \n",
      " 3   Open       1259 non-null   float64       \n",
      " 4   Close      1259 non-null   float64       \n",
      " 5   Volume     1259 non-null   float64       \n",
      " 6   Adj Close  1259 non-null   float64       \n",
      "dtypes: datetime64[ns](1), float64(6)\n",
      "memory usage: 69.0 KB\n"
     ]
    }
   ],
   "source": [
    "df_tesla.info()"
   ]
  },
  {
   "cell_type": "code",
   "execution_count": 28,
   "id": "078f75e5",
   "metadata": {},
   "outputs": [],
   "source": [
    "df_tesla=df_tesla.set_index('Date',drop=True)"
   ]
  },
  {
   "cell_type": "code",
   "execution_count": 29,
   "id": "daf81266",
   "metadata": {},
   "outputs": [
    {
     "data": {
      "text/html": [
       "<div>\n",
       "<style scoped>\n",
       "    .dataframe tbody tr th:only-of-type {\n",
       "        vertical-align: middle;\n",
       "    }\n",
       "\n",
       "    .dataframe tbody tr th {\n",
       "        vertical-align: top;\n",
       "    }\n",
       "\n",
       "    .dataframe thead th {\n",
       "        text-align: right;\n",
       "    }\n",
       "</style>\n",
       "<table border=\"1\" class=\"dataframe\">\n",
       "  <thead>\n",
       "    <tr style=\"text-align: right;\">\n",
       "      <th></th>\n",
       "      <th>High</th>\n",
       "      <th>Low</th>\n",
       "      <th>Open</th>\n",
       "      <th>Close</th>\n",
       "      <th>Volume</th>\n",
       "      <th>Adj Close</th>\n",
       "    </tr>\n",
       "    <tr>\n",
       "      <th>Date</th>\n",
       "      <th></th>\n",
       "      <th></th>\n",
       "      <th></th>\n",
       "      <th></th>\n",
       "      <th></th>\n",
       "      <th></th>\n",
       "    </tr>\n",
       "  </thead>\n",
       "  <tbody>\n",
       "    <tr>\n",
       "      <th>2017-11-27</th>\n",
       "      <td>21.156000</td>\n",
       "      <td>20.634001</td>\n",
       "      <td>20.883333</td>\n",
       "      <td>21.120667</td>\n",
       "      <td>68338500.0</td>\n",
       "      <td>21.120667</td>\n",
       "    </tr>\n",
       "    <tr>\n",
       "      <th>2017-11-28</th>\n",
       "      <td>21.333332</td>\n",
       "      <td>20.927999</td>\n",
       "      <td>21.090668</td>\n",
       "      <td>21.170000</td>\n",
       "      <td>74242500.0</td>\n",
       "      <td>21.170000</td>\n",
       "    </tr>\n",
       "    <tr>\n",
       "      <th>2017-11-29</th>\n",
       "      <td>21.200001</td>\n",
       "      <td>20.082001</td>\n",
       "      <td>21.153334</td>\n",
       "      <td>20.502666</td>\n",
       "      <td>131511000.0</td>\n",
       "      <td>20.502666</td>\n",
       "    </tr>\n",
       "    <tr>\n",
       "      <th>2017-11-30</th>\n",
       "      <td>20.713333</td>\n",
       "      <td>20.302668</td>\n",
       "      <td>20.570667</td>\n",
       "      <td>20.590000</td>\n",
       "      <td>65274000.0</td>\n",
       "      <td>20.590000</td>\n",
       "    </tr>\n",
       "    <tr>\n",
       "      <th>2017-12-01</th>\n",
       "      <td>20.688000</td>\n",
       "      <td>20.336666</td>\n",
       "      <td>20.362667</td>\n",
       "      <td>20.435333</td>\n",
       "      <td>64393500.0</td>\n",
       "      <td>20.435333</td>\n",
       "    </tr>\n",
       "    <tr>\n",
       "      <th>...</th>\n",
       "      <td>...</td>\n",
       "      <td>...</td>\n",
       "      <td>...</td>\n",
       "      <td>...</td>\n",
       "      <td>...</td>\n",
       "      <td>...</td>\n",
       "    </tr>\n",
       "    <tr>\n",
       "      <th>2022-11-18</th>\n",
       "      <td>185.190002</td>\n",
       "      <td>176.550003</td>\n",
       "      <td>185.050003</td>\n",
       "      <td>180.190002</td>\n",
       "      <td>75904900.0</td>\n",
       "      <td>180.190002</td>\n",
       "    </tr>\n",
       "    <tr>\n",
       "      <th>2022-11-21</th>\n",
       "      <td>176.770004</td>\n",
       "      <td>167.539993</td>\n",
       "      <td>175.850006</td>\n",
       "      <td>167.869995</td>\n",
       "      <td>92882700.0</td>\n",
       "      <td>167.869995</td>\n",
       "    </tr>\n",
       "    <tr>\n",
       "      <th>2022-11-22</th>\n",
       "      <td>170.919998</td>\n",
       "      <td>166.190002</td>\n",
       "      <td>168.630005</td>\n",
       "      <td>169.910004</td>\n",
       "      <td>78452300.0</td>\n",
       "      <td>169.910004</td>\n",
       "    </tr>\n",
       "    <tr>\n",
       "      <th>2022-11-23</th>\n",
       "      <td>183.619995</td>\n",
       "      <td>172.500000</td>\n",
       "      <td>173.570007</td>\n",
       "      <td>183.199997</td>\n",
       "      <td>109536700.0</td>\n",
       "      <td>183.199997</td>\n",
       "    </tr>\n",
       "    <tr>\n",
       "      <th>2022-11-25</th>\n",
       "      <td>185.199997</td>\n",
       "      <td>180.630005</td>\n",
       "      <td>185.059998</td>\n",
       "      <td>182.860001</td>\n",
       "      <td>50672700.0</td>\n",
       "      <td>182.860001</td>\n",
       "    </tr>\n",
       "  </tbody>\n",
       "</table>\n",
       "<p>1259 rows × 6 columns</p>\n",
       "</div>"
      ],
      "text/plain": [
       "                  High         Low        Open       Close       Volume  \\\n",
       "Date                                                                      \n",
       "2017-11-27   21.156000   20.634001   20.883333   21.120667   68338500.0   \n",
       "2017-11-28   21.333332   20.927999   21.090668   21.170000   74242500.0   \n",
       "2017-11-29   21.200001   20.082001   21.153334   20.502666  131511000.0   \n",
       "2017-11-30   20.713333   20.302668   20.570667   20.590000   65274000.0   \n",
       "2017-12-01   20.688000   20.336666   20.362667   20.435333   64393500.0   \n",
       "...                ...         ...         ...         ...          ...   \n",
       "2022-11-18  185.190002  176.550003  185.050003  180.190002   75904900.0   \n",
       "2022-11-21  176.770004  167.539993  175.850006  167.869995   92882700.0   \n",
       "2022-11-22  170.919998  166.190002  168.630005  169.910004   78452300.0   \n",
       "2022-11-23  183.619995  172.500000  173.570007  183.199997  109536700.0   \n",
       "2022-11-25  185.199997  180.630005  185.059998  182.860001   50672700.0   \n",
       "\n",
       "             Adj Close  \n",
       "Date                    \n",
       "2017-11-27   21.120667  \n",
       "2017-11-28   21.170000  \n",
       "2017-11-29   20.502666  \n",
       "2017-11-30   20.590000  \n",
       "2017-12-01   20.435333  \n",
       "...                ...  \n",
       "2022-11-18  180.190002  \n",
       "2022-11-21  167.869995  \n",
       "2022-11-22  169.910004  \n",
       "2022-11-23  183.199997  \n",
       "2022-11-25  182.860001  \n",
       "\n",
       "[1259 rows x 6 columns]"
      ]
     },
     "execution_count": 29,
     "metadata": {},
     "output_type": "execute_result"
    }
   ],
   "source": [
    "df_tesla"
   ]
  },
  {
   "cell_type": "code",
   "execution_count": 30,
   "id": "644fd56c",
   "metadata": {},
   "outputs": [
    {
     "data": {
      "text/plain": [
       "datetime.datetime(2020, 10, 20, 0, 0)"
      ]
     },
     "execution_count": 30,
     "metadata": {},
     "output_type": "execute_result"
    }
   ],
   "source": [
    "datetime(2020,10,20)"
   ]
  },
  {
   "cell_type": "code",
   "execution_count": 31,
   "id": "c3752e25",
   "metadata": {},
   "outputs": [
    {
     "data": {
      "text/plain": [
       "datetime.datetime(2022, 11, 27, 11, 46, 18, 261866)"
      ]
     },
     "execution_count": 31,
     "metadata": {},
     "output_type": "execute_result"
    }
   ],
   "source": [
    "datetime.now()"
   ]
  },
  {
   "cell_type": "code",
   "execution_count": 32,
   "id": "5c39dd8c",
   "metadata": {},
   "outputs": [
    {
     "data": {
      "text/html": [
       "<div>\n",
       "<style scoped>\n",
       "    .dataframe tbody tr th:only-of-type {\n",
       "        vertical-align: middle;\n",
       "    }\n",
       "\n",
       "    .dataframe tbody tr th {\n",
       "        vertical-align: top;\n",
       "    }\n",
       "\n",
       "    .dataframe thead th {\n",
       "        text-align: right;\n",
       "    }\n",
       "</style>\n",
       "<table border=\"1\" class=\"dataframe\">\n",
       "  <thead>\n",
       "    <tr style=\"text-align: right;\">\n",
       "      <th></th>\n",
       "      <th>High</th>\n",
       "      <th>Low</th>\n",
       "      <th>Open</th>\n",
       "      <th>Close</th>\n",
       "      <th>Volume</th>\n",
       "      <th>Adj Close</th>\n",
       "    </tr>\n",
       "    <tr>\n",
       "      <th>Date</th>\n",
       "      <th></th>\n",
       "      <th></th>\n",
       "      <th></th>\n",
       "      <th></th>\n",
       "      <th></th>\n",
       "      <th></th>\n",
       "    </tr>\n",
       "  </thead>\n",
       "  <tbody>\n",
       "    <tr>\n",
       "      <th>2017-11-27</th>\n",
       "      <td>21.156000</td>\n",
       "      <td>20.634001</td>\n",
       "      <td>20.883333</td>\n",
       "      <td>21.120667</td>\n",
       "      <td>68338500.0</td>\n",
       "      <td>21.120667</td>\n",
       "    </tr>\n",
       "    <tr>\n",
       "      <th>2017-11-28</th>\n",
       "      <td>21.333332</td>\n",
       "      <td>20.927999</td>\n",
       "      <td>21.090668</td>\n",
       "      <td>21.170000</td>\n",
       "      <td>74242500.0</td>\n",
       "      <td>21.170000</td>\n",
       "    </tr>\n",
       "    <tr>\n",
       "      <th>2017-11-29</th>\n",
       "      <td>21.200001</td>\n",
       "      <td>20.082001</td>\n",
       "      <td>21.153334</td>\n",
       "      <td>20.502666</td>\n",
       "      <td>131511000.0</td>\n",
       "      <td>20.502666</td>\n",
       "    </tr>\n",
       "    <tr>\n",
       "      <th>2017-11-30</th>\n",
       "      <td>20.713333</td>\n",
       "      <td>20.302668</td>\n",
       "      <td>20.570667</td>\n",
       "      <td>20.590000</td>\n",
       "      <td>65274000.0</td>\n",
       "      <td>20.590000</td>\n",
       "    </tr>\n",
       "    <tr>\n",
       "      <th>2017-12-01</th>\n",
       "      <td>20.688000</td>\n",
       "      <td>20.336666</td>\n",
       "      <td>20.362667</td>\n",
       "      <td>20.435333</td>\n",
       "      <td>64393500.0</td>\n",
       "      <td>20.435333</td>\n",
       "    </tr>\n",
       "  </tbody>\n",
       "</table>\n",
       "</div>"
      ],
      "text/plain": [
       "                 High        Low       Open      Close       Volume  Adj Close\n",
       "Date                                                                          \n",
       "2017-11-27  21.156000  20.634001  20.883333  21.120667   68338500.0  21.120667\n",
       "2017-11-28  21.333332  20.927999  21.090668  21.170000   74242500.0  21.170000\n",
       "2017-11-29  21.200001  20.082001  21.153334  20.502666  131511000.0  20.502666\n",
       "2017-11-30  20.713333  20.302668  20.570667  20.590000   65274000.0  20.590000\n",
       "2017-12-01  20.688000  20.336666  20.362667  20.435333   64393500.0  20.435333"
      ]
     },
     "execution_count": 32,
     "metadata": {},
     "output_type": "execute_result"
    }
   ],
   "source": [
    "df_tesla.head()"
   ]
  },
  {
   "cell_type": "code",
   "execution_count": 33,
   "id": "5e2dc314",
   "metadata": {},
   "outputs": [
    {
     "data": {
      "text/html": [
       "<div>\n",
       "<style scoped>\n",
       "    .dataframe tbody tr th:only-of-type {\n",
       "        vertical-align: middle;\n",
       "    }\n",
       "\n",
       "    .dataframe tbody tr th {\n",
       "        vertical-align: top;\n",
       "    }\n",
       "\n",
       "    .dataframe thead th {\n",
       "        text-align: right;\n",
       "    }\n",
       "</style>\n",
       "<table border=\"1\" class=\"dataframe\">\n",
       "  <thead>\n",
       "    <tr style=\"text-align: right;\">\n",
       "      <th></th>\n",
       "      <th>High</th>\n",
       "      <th>Low</th>\n",
       "      <th>Open</th>\n",
       "      <th>Close</th>\n",
       "      <th>Volume</th>\n",
       "      <th>Adj Close</th>\n",
       "    </tr>\n",
       "    <tr>\n",
       "      <th>Date</th>\n",
       "      <th></th>\n",
       "      <th></th>\n",
       "      <th></th>\n",
       "      <th></th>\n",
       "      <th></th>\n",
       "      <th></th>\n",
       "    </tr>\n",
       "  </thead>\n",
       "  <tbody>\n",
       "    <tr>\n",
       "      <th>2017-12-31</th>\n",
       "      <td>20.533333</td>\n",
       "      <td>20.000000</td>\n",
       "      <td>20.006666</td>\n",
       "      <td>20.246668</td>\n",
       "      <td>52027500.0</td>\n",
       "      <td>20.246668</td>\n",
       "    </tr>\n",
       "    <tr>\n",
       "      <th>2018-12-31</th>\n",
       "      <td>17.355333</td>\n",
       "      <td>16.306000</td>\n",
       "      <td>16.851999</td>\n",
       "      <td>16.704000</td>\n",
       "      <td>46210500.0</td>\n",
       "      <td>16.704000</td>\n",
       "    </tr>\n",
       "    <tr>\n",
       "      <th>2019-12-31</th>\n",
       "      <td>12.445333</td>\n",
       "      <td>11.799333</td>\n",
       "      <td>12.073333</td>\n",
       "      <td>11.931333</td>\n",
       "      <td>36984000.0</td>\n",
       "      <td>11.931333</td>\n",
       "    </tr>\n",
       "    <tr>\n",
       "      <th>2020-12-31</th>\n",
       "      <td>26.990667</td>\n",
       "      <td>23.367332</td>\n",
       "      <td>24.980000</td>\n",
       "      <td>24.081333</td>\n",
       "      <td>52073100.0</td>\n",
       "      <td>24.081333</td>\n",
       "    </tr>\n",
       "    <tr>\n",
       "      <th>2021-12-31</th>\n",
       "      <td>188.736664</td>\n",
       "      <td>179.830002</td>\n",
       "      <td>184.183334</td>\n",
       "      <td>187.666672</td>\n",
       "      <td>29401800.0</td>\n",
       "      <td>187.666672</td>\n",
       "    </tr>\n",
       "    <tr>\n",
       "      <th>2022-12-31</th>\n",
       "      <td>170.919998</td>\n",
       "      <td>166.190002</td>\n",
       "      <td>168.630005</td>\n",
       "      <td>167.869995</td>\n",
       "      <td>41864700.0</td>\n",
       "      <td>167.869995</td>\n",
       "    </tr>\n",
       "  </tbody>\n",
       "</table>\n",
       "</div>"
      ],
      "text/plain": [
       "                  High         Low        Open       Close      Volume  \\\n",
       "Date                                                                     \n",
       "2017-12-31   20.533333   20.000000   20.006666   20.246668  52027500.0   \n",
       "2018-12-31   17.355333   16.306000   16.851999   16.704000  46210500.0   \n",
       "2019-12-31   12.445333   11.799333   12.073333   11.931333  36984000.0   \n",
       "2020-12-31   26.990667   23.367332   24.980000   24.081333  52073100.0   \n",
       "2021-12-31  188.736664  179.830002  184.183334  187.666672  29401800.0   \n",
       "2022-12-31  170.919998  166.190002  168.630005  167.869995  41864700.0   \n",
       "\n",
       "             Adj Close  \n",
       "Date                    \n",
       "2017-12-31   20.246668  \n",
       "2018-12-31   16.704000  \n",
       "2019-12-31   11.931333  \n",
       "2020-12-31   24.081333  \n",
       "2021-12-31  187.666672  \n",
       "2022-12-31  167.869995  "
      ]
     },
     "execution_count": 33,
     "metadata": {},
     "output_type": "execute_result"
    }
   ],
   "source": [
    "df_tesla.resample(rule='A').min()"
   ]
  },
  {
   "cell_type": "code",
   "execution_count": 34,
   "id": "ef96799c",
   "metadata": {},
   "outputs": [
    {
     "data": {
      "text/html": [
       "<div>\n",
       "<style scoped>\n",
       "    .dataframe tbody tr th:only-of-type {\n",
       "        vertical-align: middle;\n",
       "    }\n",
       "\n",
       "    .dataframe tbody tr th {\n",
       "        vertical-align: top;\n",
       "    }\n",
       "\n",
       "    .dataframe thead th {\n",
       "        text-align: right;\n",
       "    }\n",
       "</style>\n",
       "<table border=\"1\" class=\"dataframe\">\n",
       "  <thead>\n",
       "    <tr style=\"text-align: right;\">\n",
       "      <th></th>\n",
       "      <th>High</th>\n",
       "      <th>Low</th>\n",
       "      <th>Open</th>\n",
       "      <th>Close</th>\n",
       "      <th>Volume</th>\n",
       "      <th>Adj Close</th>\n",
       "    </tr>\n",
       "    <tr>\n",
       "      <th>Date</th>\n",
       "      <th></th>\n",
       "      <th></th>\n",
       "      <th></th>\n",
       "      <th></th>\n",
       "      <th></th>\n",
       "      <th></th>\n",
       "    </tr>\n",
       "  </thead>\n",
       "  <tbody>\n",
       "    <tr>\n",
       "      <th>2017-12-31</th>\n",
       "      <td>23.162666</td>\n",
       "      <td>22.505333</td>\n",
       "      <td>22.993334</td>\n",
       "      <td>22.896667</td>\n",
       "      <td>131511000.0</td>\n",
       "      <td>22.896667</td>\n",
       "    </tr>\n",
       "    <tr>\n",
       "      <th>2018-12-31</th>\n",
       "      <td>25.830667</td>\n",
       "      <td>24.474667</td>\n",
       "      <td>25.000000</td>\n",
       "      <td>25.304667</td>\n",
       "      <td>504745500.0</td>\n",
       "      <td>25.304667</td>\n",
       "    </tr>\n",
       "    <tr>\n",
       "      <th>2019-12-31</th>\n",
       "      <td>29.020666</td>\n",
       "      <td>28.423332</td>\n",
       "      <td>29.000000</td>\n",
       "      <td>28.729334</td>\n",
       "      <td>450091500.0</td>\n",
       "      <td>28.729334</td>\n",
       "    </tr>\n",
       "    <tr>\n",
       "      <th>2020-12-31</th>\n",
       "      <td>239.573334</td>\n",
       "      <td>230.373337</td>\n",
       "      <td>233.330002</td>\n",
       "      <td>235.223328</td>\n",
       "      <td>914082000.0</td>\n",
       "      <td>235.223328</td>\n",
       "    </tr>\n",
       "    <tr>\n",
       "      <th>2021-12-31</th>\n",
       "      <td>414.496674</td>\n",
       "      <td>405.666656</td>\n",
       "      <td>411.470001</td>\n",
       "      <td>409.970001</td>\n",
       "      <td>268189500.0</td>\n",
       "      <td>409.970001</td>\n",
       "    </tr>\n",
       "    <tr>\n",
       "      <th>2022-12-31</th>\n",
       "      <td>402.666656</td>\n",
       "      <td>378.679993</td>\n",
       "      <td>396.516663</td>\n",
       "      <td>399.926666</td>\n",
       "      <td>151565700.0</td>\n",
       "      <td>399.926666</td>\n",
       "    </tr>\n",
       "  </tbody>\n",
       "</table>\n",
       "</div>"
      ],
      "text/plain": [
       "                  High         Low        Open       Close       Volume  \\\n",
       "Date                                                                      \n",
       "2017-12-31   23.162666   22.505333   22.993334   22.896667  131511000.0   \n",
       "2018-12-31   25.830667   24.474667   25.000000   25.304667  504745500.0   \n",
       "2019-12-31   29.020666   28.423332   29.000000   28.729334  450091500.0   \n",
       "2020-12-31  239.573334  230.373337  233.330002  235.223328  914082000.0   \n",
       "2021-12-31  414.496674  405.666656  411.470001  409.970001  268189500.0   \n",
       "2022-12-31  402.666656  378.679993  396.516663  399.926666  151565700.0   \n",
       "\n",
       "             Adj Close  \n",
       "Date                    \n",
       "2017-12-31   22.896667  \n",
       "2018-12-31   25.304667  \n",
       "2019-12-31   28.729334  \n",
       "2020-12-31  235.223328  \n",
       "2021-12-31  409.970001  \n",
       "2022-12-31  399.926666  "
      ]
     },
     "execution_count": 34,
     "metadata": {},
     "output_type": "execute_result"
    }
   ],
   "source": [
    "df_tesla.resample(rule='A').max()"
   ]
  },
  {
   "cell_type": "code",
   "execution_count": 35,
   "id": "5bd6f040",
   "metadata": {},
   "outputs": [
    {
     "data": {
      "text/plain": [
       "<AxesSubplot:xlabel='Date'>"
      ]
     },
     "execution_count": 35,
     "metadata": {},
     "output_type": "execute_result"
    },
    {
     "data": {
      "image/png": "[encoded data removed]",
      "text/plain": [
       "<Figure size 432x288 with 1 Axes>"
      ]
     },
     "metadata": {
      "needs_background": "light"
     },
     "output_type": "display_data"
    }
   ],
   "source": [
    "df_tesla.resample(rule='A').max()['Open'].plot()"
   ]
  },
  {
   "cell_type": "code",
   "execution_count": 36,
   "id": "24104eda",
   "metadata": {},
   "outputs": [
    {
     "data": {
      "text/plain": [
       "<AxesSubplot:xlabel='Date'>"
      ]
     },
     "execution_count": 36,
     "metadata": {},
     "output_type": "execute_result"
    },
    {
     "data": {
      "image/png": "[encoded data removed]",
      "text/plain": [
       "<Figure size 432x288 with 1 Axes>"
      ]
     },
     "metadata": {
      "needs_background": "light"
     },
     "output_type": "display_data"
    }
   ],
   "source": [
    "#quaterly frequency\n",
    "df_tesla.resample(rule='QS').max()['Open'].plot()"
   ]
  },
  {
   "cell_type": "code",
   "execution_count": 37,
   "id": "20855b94",
   "metadata": {},
   "outputs": [
    {
     "data": {
      "text/plain": [
       "<AxesSubplot:xlabel='Date'>"
      ]
     },
     "execution_count": 37,
     "metadata": {},
     "output_type": "execute_result"
    },
    {
     "data": {
      "image/png": "[encoded data removed]",
      "text/plain": [
       "<Figure size 432x288 with 1 Axes>"
      ]
     },
     "metadata": {
      "needs_background": "light"
     },
     "output_type": "display_data"
    }
   ],
   "source": [
    "#business end frequency\n",
    "df_tesla.resample(rule='BA').max()['Open'].plot()"
   ]
  },
  {
   "cell_type": "code",
   "execution_count": 38,
   "id": "c78de9b3",
   "metadata": {},
   "outputs": [
    {
     "data": {
      "text/html": [
       "<div>\n",
       "<style scoped>\n",
       "    .dataframe tbody tr th:only-of-type {\n",
       "        vertical-align: middle;\n",
       "    }\n",
       "\n",
       "    .dataframe tbody tr th {\n",
       "        vertical-align: top;\n",
       "    }\n",
       "\n",
       "    .dataframe thead th {\n",
       "        text-align: right;\n",
       "    }\n",
       "</style>\n",
       "<table border=\"1\" class=\"dataframe\">\n",
       "  <thead>\n",
       "    <tr style=\"text-align: right;\">\n",
       "      <th></th>\n",
       "      <th>High</th>\n",
       "      <th>Low</th>\n",
       "      <th>Open</th>\n",
       "      <th>Close</th>\n",
       "      <th>Volume</th>\n",
       "      <th>Adj Close</th>\n",
       "    </tr>\n",
       "    <tr>\n",
       "      <th>Date</th>\n",
       "      <th></th>\n",
       "      <th></th>\n",
       "      <th></th>\n",
       "      <th></th>\n",
       "      <th></th>\n",
       "      <th></th>\n",
       "    </tr>\n",
       "  </thead>\n",
       "  <tbody>\n",
       "    <tr>\n",
       "      <th>2017-10-02</th>\n",
       "      <td>23.162666</td>\n",
       "      <td>22.505333</td>\n",
       "      <td>22.993334</td>\n",
       "      <td>22.896667</td>\n",
       "      <td>131511000.0</td>\n",
       "      <td>22.896667</td>\n",
       "    </tr>\n",
       "    <tr>\n",
       "      <th>2018-01-01</th>\n",
       "      <td>24.033333</td>\n",
       "      <td>23.490667</td>\n",
       "      <td>24.000000</td>\n",
       "      <td>23.827999</td>\n",
       "      <td>315021000.0</td>\n",
       "      <td>23.827999</td>\n",
       "    </tr>\n",
       "    <tr>\n",
       "      <th>2018-04-02</th>\n",
       "      <td>24.915333</td>\n",
       "      <td>23.633333</td>\n",
       "      <td>24.344000</td>\n",
       "      <td>24.722000</td>\n",
       "      <td>335211000.0</td>\n",
       "      <td>24.722000</td>\n",
       "    </tr>\n",
       "    <tr>\n",
       "      <th>2018-07-02</th>\n",
       "      <td>25.830667</td>\n",
       "      <td>24.474667</td>\n",
       "      <td>24.606001</td>\n",
       "      <td>25.304667</td>\n",
       "      <td>504745500.0</td>\n",
       "      <td>25.304667</td>\n",
       "    </tr>\n",
       "    <tr>\n",
       "      <th>2018-10-01</th>\n",
       "      <td>25.299334</td>\n",
       "      <td>24.450001</td>\n",
       "      <td>25.000000</td>\n",
       "      <td>25.119333</td>\n",
       "      <td>411382500.0</td>\n",
       "      <td>25.119333</td>\n",
       "    </tr>\n",
       "    <tr>\n",
       "      <th>2019-01-01</th>\n",
       "      <td>23.466667</td>\n",
       "      <td>22.943333</td>\n",
       "      <td>23.080667</td>\n",
       "      <td>23.153999</td>\n",
       "      <td>362262000.0</td>\n",
       "      <td>23.153999</td>\n",
       "    </tr>\n",
       "    <tr>\n",
       "      <th>2019-04-01</th>\n",
       "      <td>19.744667</td>\n",
       "      <td>19.144667</td>\n",
       "      <td>19.219999</td>\n",
       "      <td>19.454000</td>\n",
       "      <td>398206500.0</td>\n",
       "      <td>19.454000</td>\n",
       "    </tr>\n",
       "    <tr>\n",
       "      <th>2019-07-01</th>\n",
       "      <td>17.738001</td>\n",
       "      <td>17.210667</td>\n",
       "      <td>17.278000</td>\n",
       "      <td>17.658667</td>\n",
       "      <td>336274500.0</td>\n",
       "      <td>17.658667</td>\n",
       "    </tr>\n",
       "    <tr>\n",
       "      <th>2019-10-01</th>\n",
       "      <td>29.020666</td>\n",
       "      <td>28.423332</td>\n",
       "      <td>29.000000</td>\n",
       "      <td>28.729334</td>\n",
       "      <td>450091500.0</td>\n",
       "      <td>28.729334</td>\n",
       "    </tr>\n",
       "    <tr>\n",
       "      <th>2020-01-01</th>\n",
       "      <td>64.599335</td>\n",
       "      <td>60.068001</td>\n",
       "      <td>61.566666</td>\n",
       "      <td>61.161331</td>\n",
       "      <td>914082000.0</td>\n",
       "      <td>61.161331</td>\n",
       "    </tr>\n",
       "    <tr>\n",
       "      <th>2020-04-01</th>\n",
       "      <td>72.512665</td>\n",
       "      <td>66.915337</td>\n",
       "      <td>67.518669</td>\n",
       "      <td>71.987335</td>\n",
       "      <td>487977000.0</td>\n",
       "      <td>71.987335</td>\n",
       "    </tr>\n",
       "    <tr>\n",
       "      <th>2020-07-01</th>\n",
       "      <td>167.496674</td>\n",
       "      <td>156.836670</td>\n",
       "      <td>167.380005</td>\n",
       "      <td>166.106674</td>\n",
       "      <td>584781000.0</td>\n",
       "      <td>166.106674</td>\n",
       "    </tr>\n",
       "    <tr>\n",
       "      <th>2020-10-01</th>\n",
       "      <td>239.573334</td>\n",
       "      <td>230.373337</td>\n",
       "      <td>233.330002</td>\n",
       "      <td>235.223328</td>\n",
       "      <td>666378600.0</td>\n",
       "      <td>235.223328</td>\n",
       "    </tr>\n",
       "    <tr>\n",
       "      <th>2021-01-01</th>\n",
       "      <td>300.133331</td>\n",
       "      <td>290.533325</td>\n",
       "      <td>297.126678</td>\n",
       "      <td>294.363342</td>\n",
       "      <td>268189500.0</td>\n",
       "      <td>294.363342</td>\n",
       "    </tr>\n",
       "    <tr>\n",
       "      <th>2021-04-01</th>\n",
       "      <td>260.263336</td>\n",
       "      <td>244.203339</td>\n",
       "      <td>256.899994</td>\n",
       "      <td>254.106674</td>\n",
       "      <td>147052200.0</td>\n",
       "      <td>254.106674</td>\n",
       "    </tr>\n",
       "    <tr>\n",
       "      <th>2021-07-01</th>\n",
       "      <td>266.333344</td>\n",
       "      <td>258.333344</td>\n",
       "      <td>262.399994</td>\n",
       "      <td>263.786682</td>\n",
       "      <td>100847400.0</td>\n",
       "      <td>263.786682</td>\n",
       "    </tr>\n",
       "    <tr>\n",
       "      <th>2021-10-01</th>\n",
       "      <td>414.496674</td>\n",
       "      <td>405.666656</td>\n",
       "      <td>411.470001</td>\n",
       "      <td>409.970001</td>\n",
       "      <td>188556300.0</td>\n",
       "      <td>409.970001</td>\n",
       "    </tr>\n",
       "    <tr>\n",
       "      <th>2022-01-03</th>\n",
       "      <td>402.666656</td>\n",
       "      <td>378.679993</td>\n",
       "      <td>396.516663</td>\n",
       "      <td>399.926666</td>\n",
       "      <td>151565700.0</td>\n",
       "      <td>399.926666</td>\n",
       "    </tr>\n",
       "    <tr>\n",
       "      <th>2022-04-01</th>\n",
       "      <td>384.290009</td>\n",
       "      <td>362.433319</td>\n",
       "      <td>378.766663</td>\n",
       "      <td>381.816681</td>\n",
       "      <td>144973200.0</td>\n",
       "      <td>381.816681</td>\n",
       "    </tr>\n",
       "    <tr>\n",
       "      <th>2022-07-01</th>\n",
       "      <td>314.666656</td>\n",
       "      <td>305.579987</td>\n",
       "      <td>311.666656</td>\n",
       "      <td>309.320007</td>\n",
       "      <td>142032300.0</td>\n",
       "      <td>309.320007</td>\n",
       "    </tr>\n",
       "    <tr>\n",
       "      <th>2022-10-03</th>\n",
       "      <td>257.500000</td>\n",
       "      <td>242.009995</td>\n",
       "      <td>254.500000</td>\n",
       "      <td>249.440002</td>\n",
       "      <td>132703000.0</td>\n",
       "      <td>249.440002</td>\n",
       "    </tr>\n",
       "  </tbody>\n",
       "</table>\n",
       "</div>"
      ],
      "text/plain": [
       "                  High         Low        Open       Close       Volume  \\\n",
       "Date                                                                      \n",
       "2017-10-02   23.162666   22.505333   22.993334   22.896667  131511000.0   \n",
       "2018-01-01   24.033333   23.490667   24.000000   23.827999  315021000.0   \n",
       "2018-04-02   24.915333   23.633333   24.344000   24.722000  335211000.0   \n",
       "2018-07-02   25.830667   24.474667   24.606001   25.304667  504745500.0   \n",
       "2018-10-01   25.299334   24.450001   25.000000   25.119333  411382500.0   \n",
       "2019-01-01   23.466667   22.943333   23.080667   23.153999  362262000.0   \n",
       "2019-04-01   19.744667   19.144667   19.219999   19.454000  398206500.0   \n",
       "2019-07-01   17.738001   17.210667   17.278000   17.658667  336274500.0   \n",
       "2019-10-01   29.020666   28.423332   29.000000   28.729334  450091500.0   \n",
       "2020-01-01   64.599335   60.068001   61.566666   61.161331  914082000.0   \n",
       "2020-04-01   72.512665   66.915337   67.518669   71.987335  487977000.0   \n",
       "2020-07-01  167.496674  156.836670  167.380005  166.106674  584781000.0   \n",
       "2020-10-01  239.573334  230.373337  233.330002  235.223328  666378600.0   \n",
       "2021-01-01  300.133331  290.533325  297.126678  294.363342  268189500.0   \n",
       "2021-04-01  260.263336  244.203339  256.899994  254.106674  147052200.0   \n",
       "2021-07-01  266.333344  258.333344  262.399994  263.786682  100847400.0   \n",
       "2021-10-01  414.496674  405.666656  411.470001  409.970001  188556300.0   \n",
       "2022-01-03  402.666656  378.679993  396.516663  399.926666  151565700.0   \n",
       "2022-04-01  384.290009  362.433319  378.766663  381.816681  144973200.0   \n",
       "2022-07-01  314.666656  305.579987  311.666656  309.320007  142032300.0   \n",
       "2022-10-03  257.500000  242.009995  254.500000  249.440002  132703000.0   \n",
       "\n",
       "             Adj Close  \n",
       "Date                    \n",
       "2017-10-02   22.896667  \n",
       "2018-01-01   23.827999  \n",
       "2018-04-02   24.722000  \n",
       "2018-07-02   25.304667  \n",
       "2018-10-01   25.119333  \n",
       "2019-01-01   23.153999  \n",
       "2019-04-01   19.454000  \n",
       "2019-07-01   17.658667  \n",
       "2019-10-01   28.729334  \n",
       "2020-01-01   61.161331  \n",
       "2020-04-01   71.987335  \n",
       "2020-07-01  166.106674  \n",
       "2020-10-01  235.223328  \n",
       "2021-01-01  294.363342  \n",
       "2021-04-01  254.106674  \n",
       "2021-07-01  263.786682  \n",
       "2021-10-01  409.970001  \n",
       "2022-01-03  399.926666  \n",
       "2022-04-01  381.816681  \n",
       "2022-07-01  309.320007  \n",
       "2022-10-03  249.440002  "
      ]
     },
     "execution_count": 38,
     "metadata": {},
     "output_type": "execute_result"
    }
   ],
   "source": [
    "df_tesla.resample(rule='BQS').max()"
   ]
  },
  {
   "cell_type": "code",
   "execution_count": 39,
   "id": "b6294e97",
   "metadata": {},
   "outputs": [
    {
     "data": {
      "text/plain": [
       "<AxesSubplot:xlabel='Date'>"
      ]
     },
     "execution_count": 39,
     "metadata": {},
     "output_type": "execute_result"
    },
    {
     "data": {
      "image/png": "[encoded data removed]",
      "text/plain": [
       "<Figure size 432x288 with 1 Axes>"
      ]
     },
     "metadata": {
      "needs_background": "light"
     },
     "output_type": "display_data"
    }
   ],
   "source": [
    "df_tesla['Open'].resample(rule='A').mean().plot(kind='bar')"
   ]
  },
  {
   "cell_type": "code",
   "execution_count": 41,
   "id": "e62a7fd6",
   "metadata": {},
   "outputs": [
    {
     "data": {
      "text/plain": [
       "<AxesSubplot:xlabel='Date'>"
      ]
     },
     "execution_count": 41,
     "metadata": {},
     "output_type": "execute_result"
    },
    {
     "data": {
      "image/png": "[encoded data removed]",
      "text/plain": [
       "<Figure size 1080x432 with 1 Axes>"
      ]
     },
     "metadata": {
      "needs_background": "light"
     },
     "output_type": "display_data"
    }
   ],
   "source": [
    "df_tesla['Open'].resample(rule='M').max().plot(kind='bar',figsize=(15,6))"
   ]
  },
  {
   "cell_type": "code",
   "execution_count": null,
   "id": "d85c2f12",
   "metadata": {},
   "outputs": [],
   "source": []
  }
 ],
 "metadata": {
  "kernelspec": {
   "display_name": "Python 3 (ipykernel)",
   "language": "python",
   "name": "python3"
  },
  "language_info": {
   "codemirror_mode": {
    "name": "ipython",
    "version": 3
   },
   "file_extension": ".py",
   "mimetype": "text/x-python",
   "name": "python",
   "nbconvert_exporter": "python",
   "pygments_lexer": "ipython3",
   "version": "3.9.12"
  }
 },
 "nbformat": 4,
 "nbformat_minor": 5
}
